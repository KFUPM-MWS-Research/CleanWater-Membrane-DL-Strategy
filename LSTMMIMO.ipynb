{
 "cells": [
  {
   "cell_type": "markdown",
   "metadata": {},
   "source": [
    "## Import all the requiered libraries"
   ]
  },
  {
   "cell_type": "code",
   "execution_count": 1,
   "metadata": {},
   "outputs": [],
   "source": [
    "import torch\n",
    "import torch.nn as nn\n",
    "import torch.optim as optim\n",
    "import numpy as np\n",
    "import pandas as pd\n",
    "import matplotlib.pyplot as plt\n",
    "from sklearn.model_selection import train_test_split"
   ]
  },
  {
   "cell_type": "markdown",
   "metadata": {},
   "source": [
    "## Explore and prepare the dataset"
   ]
  },
  {
   "cell_type": "code",
   "execution_count": 2,
   "metadata": {},
   "outputs": [],
   "source": [
    "df = pd.read_csv(\"dataset/dataset_membrane_.csv\")"
   ]
  },
  {
   "cell_type": "code",
   "execution_count": 3,
   "metadata": {
    "scrolled": true
   },
   "outputs": [
    {
     "output_type": "stream",
     "name": "stdout",
     "text": [
      "<class 'pandas.core.frame.DataFrame'>\nRangeIndex: 5216 entries, 0 to 5215\nData columns (total 6 columns):\n #   Column     Non-Null Count  Dtype  \n---  ------     --------------  -----  \n 0   SW         5216 non-null   float64\n 1   MWCO       5216 non-null   int64  \n 2   CA         5216 non-null   int64  \n 3   ZP         5216 non-null   float64\n 4   Permeance  5216 non-null   float64\n 5   Rejection  5216 non-null   float64\ndtypes: float64(4), int64(2)\nmemory usage: 244.6 KB\n"
     ]
    }
   ],
   "source": [
    "df.info()"
   ]
  },
  {
   "cell_type": "code",
   "execution_count": 4,
   "metadata": {
    "scrolled": true
   },
   "outputs": [
    {
     "output_type": "execute_result",
     "data": {
      "text/plain": [
       "        SW  MWCO  CA    ZP  Permeance  Rejection\n",
       "0  1.50778   350  87 -15.0  48.058984   0.742500\n",
       "1  1.50778   350  87 -15.0  48.058984   0.351755\n",
       "2  1.50778   350  87 -15.0  48.058984   0.364472\n",
       "3  1.50778   350  87 -15.0  48.058984   0.232885\n",
       "4  1.50778   350  87 -15.0  48.058984   0.098254"
      ],
      "text/html": "<div>\n<style scoped>\n    .dataframe tbody tr th:only-of-type {\n        vertical-align: middle;\n    }\n\n    .dataframe tbody tr th {\n        vertical-align: top;\n    }\n\n    .dataframe thead th {\n        text-align: right;\n    }\n</style>\n<table border=\"1\" class=\"dataframe\">\n  <thead>\n    <tr style=\"text-align: right;\">\n      <th></th>\n      <th>SW</th>\n      <th>MWCO</th>\n      <th>CA</th>\n      <th>ZP</th>\n      <th>Permeance</th>\n      <th>Rejection</th>\n    </tr>\n  </thead>\n  <tbody>\n    <tr>\n      <th>0</th>\n      <td>1.50778</td>\n      <td>350</td>\n      <td>87</td>\n      <td>-15.0</td>\n      <td>48.058984</td>\n      <td>0.742500</td>\n    </tr>\n    <tr>\n      <th>1</th>\n      <td>1.50778</td>\n      <td>350</td>\n      <td>87</td>\n      <td>-15.0</td>\n      <td>48.058984</td>\n      <td>0.351755</td>\n    </tr>\n    <tr>\n      <th>2</th>\n      <td>1.50778</td>\n      <td>350</td>\n      <td>87</td>\n      <td>-15.0</td>\n      <td>48.058984</td>\n      <td>0.364472</td>\n    </tr>\n    <tr>\n      <th>3</th>\n      <td>1.50778</td>\n      <td>350</td>\n      <td>87</td>\n      <td>-15.0</td>\n      <td>48.058984</td>\n      <td>0.232885</td>\n    </tr>\n    <tr>\n      <th>4</th>\n      <td>1.50778</td>\n      <td>350</td>\n      <td>87</td>\n      <td>-15.0</td>\n      <td>48.058984</td>\n      <td>0.098254</td>\n    </tr>\n  </tbody>\n</table>\n</div>"
     },
     "metadata": {},
     "execution_count": 4
    }
   ],
   "source": [
    "df.head(5)"
   ]
  },
  {
   "cell_type": "code",
   "execution_count": 5,
   "metadata": {},
   "outputs": [
    {
     "output_type": "execute_result",
     "data": {
      "text/plain": [
       "numpy.float64"
      ]
     },
     "metadata": {},
     "execution_count": 5
    }
   ],
   "source": [
    "type(df['SW'][0])"
   ]
  },
  {
   "cell_type": "code",
   "execution_count": 7,
   "metadata": {},
   "outputs": [],
   "source": [
    "X = df.drop(['Permeance', 'Rejection'], axis=1)\n",
    "y = df[['Permeance', 'Rejection']]"
   ]
  },
  {
   "cell_type": "markdown",
   "metadata": {},
   "source": [
    "**Lets use Min Max Normalization to normalize all the seven features, transforming their values into a scale between 0 and 1.**"
   ]
  },
  {
   "cell_type": "code",
   "execution_count": 8,
   "metadata": {},
   "outputs": [],
   "source": [
    "def normalize(dataset):\n",
    "    data_normalized = ((dataset-dataset.min())/(dataset.max()-dataset.min()))\n",
    "    return data_normalized"
   ]
  },
  {
   "cell_type": "code",
   "execution_count": 9,
   "metadata": {},
   "outputs": [
    {
     "output_type": "execute_result",
     "data": {
      "text/plain": [
       "            SW      MWCO   CA        ZP  Permeance  Rejection\n",
       "0     0.454667  0.571429  1.0  0.616438   0.741910   0.817718\n",
       "1     0.454667  0.571429  1.0  0.616438   0.741910   0.541114\n",
       "2     0.454667  0.571429  1.0  0.616438   0.741910   0.550116\n",
       "3     0.454667  0.571429  1.0  0.616438   0.741910   0.456967\n",
       "4     0.454667  0.571429  1.0  0.616438   0.741910   0.361663\n",
       "...        ...       ...  ...       ...        ...        ...\n",
       "5211  1.000000  0.142857  0.0  0.616438   0.047235   0.734593\n",
       "5212  1.000000  0.142857  0.0  0.616438   0.047235   0.300520\n",
       "5213  1.000000  0.142857  0.0  0.616438   0.047235   0.369577\n",
       "5214  1.000000  0.142857  0.0  0.616438   0.047235   0.633118\n",
       "5215  1.000000  0.142857  0.0  0.616438   0.047235   0.342814\n",
       "\n",
       "[5216 rows x 6 columns]"
      ],
      "text/html": "<div>\n<style scoped>\n    .dataframe tbody tr th:only-of-type {\n        vertical-align: middle;\n    }\n\n    .dataframe tbody tr th {\n        vertical-align: top;\n    }\n\n    .dataframe thead th {\n        text-align: right;\n    }\n</style>\n<table border=\"1\" class=\"dataframe\">\n  <thead>\n    <tr style=\"text-align: right;\">\n      <th></th>\n      <th>SW</th>\n      <th>MWCO</th>\n      <th>CA</th>\n      <th>ZP</th>\n      <th>Permeance</th>\n      <th>Rejection</th>\n    </tr>\n  </thead>\n  <tbody>\n    <tr>\n      <th>0</th>\n      <td>0.454667</td>\n      <td>0.571429</td>\n      <td>1.0</td>\n      <td>0.616438</td>\n      <td>0.741910</td>\n      <td>0.817718</td>\n    </tr>\n    <tr>\n      <th>1</th>\n      <td>0.454667</td>\n      <td>0.571429</td>\n      <td>1.0</td>\n      <td>0.616438</td>\n      <td>0.741910</td>\n      <td>0.541114</td>\n    </tr>\n    <tr>\n      <th>2</th>\n      <td>0.454667</td>\n      <td>0.571429</td>\n      <td>1.0</td>\n      <td>0.616438</td>\n      <td>0.741910</td>\n      <td>0.550116</td>\n    </tr>\n    <tr>\n      <th>3</th>\n      <td>0.454667</td>\n      <td>0.571429</td>\n      <td>1.0</td>\n      <td>0.616438</td>\n      <td>0.741910</td>\n      <td>0.456967</td>\n    </tr>\n    <tr>\n      <th>4</th>\n      <td>0.454667</td>\n      <td>0.571429</td>\n      <td>1.0</td>\n      <td>0.616438</td>\n      <td>0.741910</td>\n      <td>0.361663</td>\n    </tr>\n    <tr>\n      <th>...</th>\n      <td>...</td>\n      <td>...</td>\n      <td>...</td>\n      <td>...</td>\n      <td>...</td>\n      <td>...</td>\n    </tr>\n    <tr>\n      <th>5211</th>\n      <td>1.000000</td>\n      <td>0.142857</td>\n      <td>0.0</td>\n      <td>0.616438</td>\n      <td>0.047235</td>\n      <td>0.734593</td>\n    </tr>\n    <tr>\n      <th>5212</th>\n      <td>1.000000</td>\n      <td>0.142857</td>\n      <td>0.0</td>\n      <td>0.616438</td>\n      <td>0.047235</td>\n      <td>0.300520</td>\n    </tr>\n    <tr>\n      <th>5213</th>\n      <td>1.000000</td>\n      <td>0.142857</td>\n      <td>0.0</td>\n      <td>0.616438</td>\n      <td>0.047235</td>\n      <td>0.369577</td>\n    </tr>\n    <tr>\n      <th>5214</th>\n      <td>1.000000</td>\n      <td>0.142857</td>\n      <td>0.0</td>\n      <td>0.616438</td>\n      <td>0.047235</td>\n      <td>0.633118</td>\n    </tr>\n    <tr>\n      <th>5215</th>\n      <td>1.000000</td>\n      <td>0.142857</td>\n      <td>0.0</td>\n      <td>0.616438</td>\n      <td>0.047235</td>\n      <td>0.342814</td>\n    </tr>\n  </tbody>\n</table>\n<p>5216 rows × 6 columns</p>\n</div>"
     },
     "metadata": {},
     "execution_count": 9
    }
   ],
   "source": [
    "features = normalize(df)\n",
    "features"
   ]
  },
  {
   "cell_type": "markdown",
   "metadata": {},
   "source": [
    "## Create a train (70%) and a test (30%) set "
   ]
  },
  {
   "cell_type": "code",
   "execution_count": 10,
   "metadata": {},
   "outputs": [
    {
     "output_type": "execute_result",
     "data": {
      "text/plain": [
       "array([[0.45466716, 0.57142857, 1.        , 0.61643836],\n",
       "       [0.45466716, 0.57142857, 1.        , 0.61643836],\n",
       "       [0.45466716, 0.57142857, 1.        , 0.61643836],\n",
       "       [0.45466716, 0.57142857, 1.        , 0.61643836],\n",
       "       [0.45466716, 0.57142857, 1.        , 0.61643836]])"
      ]
     },
     "metadata": {},
     "execution_count": 10
    }
   ],
   "source": [
    "X = features[['SW','MWCO', 'CA', 'ZP']].to_numpy()\n",
    "X[:5]"
   ]
  },
  {
   "cell_type": "code",
   "execution_count": 11,
   "metadata": {},
   "outputs": [
    {
     "output_type": "execute_result",
     "data": {
      "text/plain": [
       "array([[48.05898411,  0.74249975],\n",
       "       [48.05898411,  0.35175509],\n",
       "       [48.05898411,  0.36447169],\n",
       "       [48.05898411,  0.23288501],\n",
       "       [48.05898411,  0.09825405]])"
      ]
     },
     "metadata": {},
     "execution_count": 11
    }
   ],
   "source": [
    "y= y.to_numpy()\n",
    "y[:5]"
   ]
  },
  {
   "cell_type": "code",
   "execution_count": 12,
   "metadata": {},
   "outputs": [],
   "source": [
    "# Split the dataset into training and validation sets\n",
    "X_train, X_val, y_train, y_val = train_test_split(X, y, test_size=0.3, random_state=42)\n"
   ]
  },
  {
   "cell_type": "markdown",
   "metadata": {},
   "source": [
    "## Numpy arrays to Pytorch tensors train"
   ]
  },
  {
   "cell_type": "code",
   "execution_count": 13,
   "metadata": {},
   "outputs": [],
   "source": [
    "# Convert the data into PyTorch tensors\n",
    "X_train = torch.tensor(X_train, dtype=torch.float32)\n",
    "X_val = torch.tensor(X_val, dtype=torch.float32)\n",
    "y_train = torch.tensor(y_train, dtype=torch.float32)\n",
    "y_val = torch.tensor(y_val, dtype=torch.float32)\n"
   ]
  },
  {
   "cell_type": "code",
   "execution_count": 15,
   "metadata": {},
   "outputs": [],
   "source": [
    "# Define the LSTM model\n",
    "class LSTMRegressor(nn.Module):\n",
    "    def __init__(self, input_size, hidden_size, num_layers, output_size):\n",
    "        super(LSTMRegressor, self).__init__()\n",
    "        self.hidden_size = hidden_size\n",
    "        self.num_layers = num_layers\n",
    "        self.lstm = nn.LSTM(input_size, hidden_size, num_layers, batch_first=True)\n",
    "        self.fc = nn.Linear(hidden_size, output_size)\n",
    "\n",
    "    def forward(self, x):\n",
    "        h0 = torch.zeros(self.num_layers, x.size(0), self.hidden_size).to(x.device)\n",
    "        c0 = torch.zeros(self.num_layers, x.size(0), self.hidden_size).to(x.device)\n",
    "        out, _ = self.lstm(x, (h0, c0))\n",
    "        out = self.fc(out[:, -1, :])  # Use only the last output\n",
    "        return out"
   ]
  },
  {
   "cell_type": "code",
   "execution_count": 16,
   "metadata": {},
   "outputs": [],
   "source": [
    "# Define model parameters\n",
    "input_size = X.shape[1]\n",
    "hidden_size = 64\n",
    "num_layers = 2\n",
    "output_size = 2"
   ]
  },
  {
   "cell_type": "code",
   "execution_count": 17,
   "metadata": {},
   "outputs": [],
   "source": [
    "# Instantiate the model\n",
    "model = LSTMRegressor(input_size, hidden_size, num_layers, output_size)"
   ]
  },
  {
   "cell_type": "code",
   "execution_count": 18,
   "metadata": {},
   "outputs": [],
   "source": [
    "# Define loss function and optimizer\n",
    "criterion = nn.MSELoss()\n",
    "optimizer = optim.Adam(model.parameters(), lr=0.005)"
   ]
  },
  {
   "cell_type": "code",
   "execution_count": 19,
   "metadata": {
    "tags": []
   },
   "outputs": [
    {
     "output_type": "stream",
     "name": "stdout",
     "text": [
      "Epoch [1/100], Train Loss: 47.8370, Val Loss: 43.0928\n",
      "Epoch [2/100], Train Loss: 47.7181, Val Loss: 42.9793\n",
      "Epoch [3/100], Train Loss: 47.5953, Val Loss: 42.8568\n",
      "Epoch [4/100], Train Loss: 47.4625, Val Loss: 42.7200\n",
      "Epoch [5/100], Train Loss: 47.3141, Val Loss: 42.5640\n",
      "Epoch [6/100], Train Loss: 47.1446, Val Loss: 42.3843\n",
      "Epoch [7/100], Train Loss: 46.9490, Val Loss: 42.1764\n",
      "Epoch [8/100], Train Loss: 46.7224, Val Loss: 41.9366\n",
      "Epoch [9/100], Train Loss: 46.4601, Val Loss: 41.6615\n",
      "Epoch [10/100], Train Loss: 46.1584, Val Loss: 41.3498\n",
      "Epoch [11/100], Train Loss: 45.8150, Val Loss: 41.0024\n",
      "Epoch [12/100], Train Loss: 45.4302, Val Loss: 40.6240\n",
      "Epoch [13/100], Train Loss: 45.0077, Val Loss: 40.2227\n",
      "Epoch [14/100], Train Loss: 44.5552, Val Loss: 39.8086\n",
      "Epoch [15/100], Train Loss: 44.0819, Val Loss: 39.3913\n",
      "Epoch [16/100], Train Loss: 43.5970, Val Loss: 38.9829\n",
      "Epoch [17/100], Train Loss: 43.1124, Val Loss: 38.6010\n",
      "Epoch [18/100], Train Loss: 42.6459, Val Loss: 38.2669\n",
      "Epoch [19/100], Train Loss: 42.2195, Val Loss: 38.0031\n",
      "Epoch [20/100], Train Loss: 41.8569, Val Loss: 37.8301\n",
      "Epoch [21/100], Train Loss: 41.5806, Val Loss: 37.7620\n",
      "Epoch [22/100], Train Loss: 41.4077, Val Loss: 37.8001\n",
      "Epoch [23/100], Train Loss: 41.3438, Val Loss: 37.9264\n",
      "Epoch [24/100], Train Loss: 41.3765, Val Loss: 38.1020\n",
      "Epoch [25/100], Train Loss: 41.4734, Val Loss: 38.2774\n",
      "Epoch [26/100], Train Loss: 41.5902, Val Loss: 38.4100\n",
      "Epoch [27/100], Train Loss: 41.6867, Val Loss: 38.4757\n",
      "Epoch [28/100], Train Loss: 41.7379, Val Loss: 38.4681\n",
      "Epoch [29/100], Train Loss: 41.7348, Val Loss: 38.3953\n",
      "Epoch [30/100], Train Loss: 41.6818, Val Loss: 38.2754\n",
      "Epoch [31/100], Train Loss: 41.5935, Val Loss: 38.1319\n",
      "Epoch [32/100], Train Loss: 41.4895, Val Loss: 37.9871\n",
      "Epoch [33/100], Train Loss: 41.3886, Val Loss: 37.8576\n",
      "Epoch [34/100], Train Loss: 41.3048, Val Loss: 37.7531\n",
      "Epoch [35/100], Train Loss: 41.2448, Val Loss: 37.6766\n",
      "Epoch [36/100], Train Loss: 41.2097, Val Loss: 37.6260\n",
      "Epoch [37/100], Train Loss: 41.1955, Val Loss: 37.5960\n",
      "Epoch [38/100], Train Loss: 41.1960, Val Loss: 37.5804\n",
      "Epoch [39/100], Train Loss: 41.2045, Val Loss: 37.5735\n",
      "Epoch [40/100], Train Loss: 41.2148, Val Loss: 37.5704\n",
      "Epoch [41/100], Train Loss: 41.2222, Val Loss: 37.5679\n",
      "Epoch [42/100], Train Loss: 41.2237, Val Loss: 37.5640\n",
      "Epoch [43/100], Train Loss: 41.2179, Val Loss: 37.5580\n",
      "Epoch [44/100], Train Loss: 41.2045, Val Loss: 37.5502\n",
      "Epoch [45/100], Train Loss: 41.1844, Val Loss: 37.5412\n",
      "Epoch [46/100], Train Loss: 41.1591, Val Loss: 37.5323\n",
      "Epoch [47/100], Train Loss: 41.1304, Val Loss: 37.5247\n",
      "Epoch [48/100], Train Loss: 41.1003, Val Loss: 37.5194\n",
      "Epoch [49/100], Train Loss: 41.0709, Val Loss: 37.5170\n",
      "Epoch [50/100], Train Loss: 41.0436, Val Loss: 37.5176\n",
      "Epoch [51/100], Train Loss: 41.0194, Val Loss: 37.5207\n",
      "Epoch [52/100], Train Loss: 40.9987, Val Loss: 37.5253\n",
      "Epoch [53/100], Train Loss: 40.9813, Val Loss: 37.5298\n",
      "Epoch [54/100], Train Loss: 40.9663, Val Loss: 37.5325\n",
      "Epoch [55/100], Train Loss: 40.9527, Val Loss: 37.5317\n",
      "Epoch [56/100], Train Loss: 40.9391, Val Loss: 37.5262\n",
      "Epoch [57/100], Train Loss: 40.9245, Val Loss: 37.5153\n",
      "Epoch [58/100], Train Loss: 40.9081, Val Loss: 37.4990\n",
      "Epoch [59/100], Train Loss: 40.8896, Val Loss: 37.4779\n",
      "Epoch [60/100], Train Loss: 40.8693, Val Loss: 37.4534\n",
      "Epoch [61/100], Train Loss: 40.8478, Val Loss: 37.4269\n",
      "Epoch [62/100], Train Loss: 40.8258, Val Loss: 37.4001\n",
      "Epoch [63/100], Train Loss: 40.8043, Val Loss: 37.3743\n",
      "Epoch [64/100], Train Loss: 40.7836, Val Loss: 37.3504\n",
      "Epoch [65/100], Train Loss: 40.7641, Val Loss: 37.3291\n",
      "Epoch [66/100], Train Loss: 40.7455, Val Loss: 37.3104\n",
      "Epoch [67/100], Train Loss: 40.7276, Val Loss: 37.2944\n",
      "Epoch [68/100], Train Loss: 40.7098, Val Loss: 37.2808\n",
      "Epoch [69/100], Train Loss: 40.6918, Val Loss: 37.2692\n",
      "Epoch [70/100], Train Loss: 40.6732, Val Loss: 37.2595\n",
      "Epoch [71/100], Train Loss: 40.6538, Val Loss: 37.2514\n",
      "Epoch [72/100], Train Loss: 40.6336, Val Loss: 37.2444\n",
      "Epoch [73/100], Train Loss: 40.6129, Val Loss: 37.2383\n",
      "Epoch [74/100], Train Loss: 40.5918, Val Loss: 37.2327\n",
      "Epoch [75/100], Train Loss: 40.5704, Val Loss: 37.2268\n",
      "Epoch [76/100], Train Loss: 40.5489, Val Loss: 37.2201\n",
      "Epoch [77/100], Train Loss: 40.5272, Val Loss: 37.2119\n",
      "Epoch [78/100], Train Loss: 40.5052, Val Loss: 37.2017\n",
      "Epoch [79/100], Train Loss: 40.4826, Val Loss: 37.1891\n",
      "Epoch [80/100], Train Loss: 40.4594, Val Loss: 37.1739\n",
      "Epoch [81/100], Train Loss: 40.4355, Val Loss: 37.1561\n",
      "Epoch [82/100], Train Loss: 40.4107, Val Loss: 37.1361\n",
      "Epoch [83/100], Train Loss: 40.3852, Val Loss: 37.1143\n",
      "Epoch [84/100], Train Loss: 40.3589, Val Loss: 37.0910\n",
      "Epoch [85/100], Train Loss: 40.3318, Val Loss: 37.0668\n",
      "Epoch [86/100], Train Loss: 40.3038, Val Loss: 37.0419\n",
      "Epoch [87/100], Train Loss: 40.2747, Val Loss: 37.0166\n",
      "Epoch [88/100], Train Loss: 40.2445, Val Loss: 36.9911\n",
      "Epoch [89/100], Train Loss: 40.2129, Val Loss: 36.9655\n",
      "Epoch [90/100], Train Loss: 40.1799, Val Loss: 36.9395\n",
      "Epoch [91/100], Train Loss: 40.1453, Val Loss: 36.9132\n",
      "Epoch [92/100], Train Loss: 40.1094, Val Loss: 36.8864\n",
      "Epoch [93/100], Train Loss: 40.0721, Val Loss: 36.8587\n",
      "Epoch [94/100], Train Loss: 40.0335, Val Loss: 36.8298\n",
      "Epoch [95/100], Train Loss: 39.9938, Val Loss: 36.7993\n",
      "Epoch [96/100], Train Loss: 39.9529, Val Loss: 36.7669\n",
      "Epoch [97/100], Train Loss: 39.9107, Val Loss: 36.7325\n",
      "Epoch [98/100], Train Loss: 39.8673, Val Loss: 36.6960\n",
      "Epoch [99/100], Train Loss: 39.8228, Val Loss: 36.6578\n",
      "Epoch [100/100], Train Loss: 39.7772, Val Loss: 36.6184\n"
     ]
    }
   ],
   "source": [
    "# Training loop\n",
    "num_epochs = 100\n",
    "train_losses = []\n",
    "val_losses = []\n",
    "for epoch in range(num_epochs):\n",
    "    model.train()\n",
    "    optimizer.zero_grad()\n",
    "    outputs = model(X_train.unsqueeze(1))  # Add sequence length dimension\n",
    "    loss = criterion(outputs, y_train)\n",
    "    loss.backward()\n",
    "    optimizer.step()\n",
    "    train_losses.append(loss.item())\n",
    "\n",
    "    model.eval()\n",
    "    with torch.no_grad():\n",
    "        val_outputs = model(X_val.unsqueeze(1))  # Add sequence length dimension\n",
    "        val_loss = criterion(val_outputs, y_val)\n",
    "        val_losses.append(val_loss.item())\n",
    "\n",
    "    print(f'Epoch [{epoch+1}/{num_epochs}], Train Loss: {loss.item():.4f}, Val Loss: {val_loss.item():.4f}')\n"
   ]
  },
  {
   "cell_type": "code",
   "execution_count": 20,
   "metadata": {},
   "outputs": [
    {
     "output_type": "display_data",
     "data": {
      "text/plain": "<Figure size 432x288 with 1 Axes>",
      "image/svg+xml": "<?xml version=\"1.0\" encoding=\"utf-8\" standalone=\"no\"?>\r\n<!DOCTYPE svg PUBLIC \"-//W3C//DTD SVG 1.1//EN\"\r\n  \"http://www.w3.org/Graphics/SVG/1.1/DTD/svg11.dtd\">\r\n<!-- Created with matplotlib (https://matplotlib.org/) -->\r\n<svg height=\"277.314375pt\" version=\"1.1\" viewBox=\"0 0 382.603125 277.314375\" width=\"382.603125pt\" xmlns=\"http://www.w3.org/2000/svg\" xmlns:xlink=\"http://www.w3.org/1999/xlink\">\r\n <metadata>\r\n  <rdf:RDF xmlns:cc=\"http://creativecommons.org/ns#\" xmlns:dc=\"http://purl.org/dc/elements/1.1/\" xmlns:rdf=\"http://www.w3.org/1999/02/22-rdf-syntax-ns#\">\r\n   <cc:Work>\r\n    <dc:type rdf:resource=\"http://purl.org/dc/dcmitype/StillImage\"/>\r\n    <dc:date>2024-03-21T16:17:06.245044</dc:date>\r\n    <dc:format>image/svg+xml</dc:format>\r\n    <dc:creator>\r\n     <cc:Agent>\r\n      <dc:title>Matplotlib v3.3.4, https://matplotlib.org/</dc:title>\r\n     </cc:Agent>\r\n    </dc:creator>\r\n   </cc:Work>\r\n  </rdf:RDF>\r\n </metadata>\r\n <defs>\r\n  <style type=\"text/css\">*{stroke-linecap:butt;stroke-linejoin:round;}</style>\r\n </defs>\r\n <g id=\"figure_1\">\r\n  <g id=\"patch_1\">\r\n   <path d=\"M 0 277.314375 \r\nL 382.603125 277.314375 \r\nL 382.603125 0 \r\nL 0 0 \r\nz\r\n\" style=\"fill:none;\"/>\r\n  </g>\r\n  <g id=\"axes_1\">\r\n   <g id=\"patch_2\">\r\n    <path d=\"M 40.603125 239.758125 \r\nL 375.403125 239.758125 \r\nL 375.403125 22.318125 \r\nL 40.603125 22.318125 \r\nz\r\n\" style=\"fill:#ffffff;\"/>\r\n   </g>\r\n   <g id=\"matplotlib.axis_1\">\r\n    <g id=\"xtick_1\">\r\n     <g id=\"line2d_1\">\r\n      <defs>\r\n       <path d=\"M 0 0 \r\nL 0 3.5 \r\n\" id=\"m66b0a1641c\" style=\"stroke:#000000;stroke-width:0.8;\"/>\r\n      </defs>\r\n      <g>\r\n       <use style=\"stroke:#000000;stroke-width:0.8;\" x=\"55.821307\" xlink:href=\"#m66b0a1641c\" y=\"239.758125\"/>\r\n      </g>\r\n     </g>\r\n     <g id=\"text_1\">\r\n      <!-- 0 -->\r\n      <g transform=\"translate(52.640057 254.356562)scale(0.1 -0.1)\">\r\n       <defs>\r\n        <path d=\"M 31.78125 66.40625 \r\nQ 24.171875 66.40625 20.328125 58.90625 \r\nQ 16.5 51.421875 16.5 36.375 \r\nQ 16.5 21.390625 20.328125 13.890625 \r\nQ 24.171875 6.390625 31.78125 6.390625 \r\nQ 39.453125 6.390625 43.28125 13.890625 \r\nQ 47.125 21.390625 47.125 36.375 \r\nQ 47.125 51.421875 43.28125 58.90625 \r\nQ 39.453125 66.40625 31.78125 66.40625 \r\nz\r\nM 31.78125 74.21875 \r\nQ 44.046875 74.21875 50.515625 64.515625 \r\nQ 56.984375 54.828125 56.984375 36.375 \r\nQ 56.984375 17.96875 50.515625 8.265625 \r\nQ 44.046875 -1.421875 31.78125 -1.421875 \r\nQ 19.53125 -1.421875 13.0625 8.265625 \r\nQ 6.59375 17.96875 6.59375 36.375 \r\nQ 6.59375 54.828125 13.0625 64.515625 \r\nQ 19.53125 74.21875 31.78125 74.21875 \r\nz\r\n\" id=\"DejaVuSans-48\"/>\r\n       </defs>\r\n       <use xlink:href=\"#DejaVuSans-48\"/>\r\n      </g>\r\n     </g>\r\n    </g>\r\n    <g id=\"xtick_2\">\r\n     <g id=\"line2d_2\">\r\n      <g>\r\n       <use style=\"stroke:#000000;stroke-width:0.8;\" x=\"117.30891\" xlink:href=\"#m66b0a1641c\" y=\"239.758125\"/>\r\n      </g>\r\n     </g>\r\n     <g id=\"text_2\">\r\n      <!-- 20 -->\r\n      <g transform=\"translate(110.94641 254.356562)scale(0.1 -0.1)\">\r\n       <defs>\r\n        <path d=\"M 19.1875 8.296875 \r\nL 53.609375 8.296875 \r\nL 53.609375 0 \r\nL 7.328125 0 \r\nL 7.328125 8.296875 \r\nQ 12.9375 14.109375 22.625 23.890625 \r\nQ 32.328125 33.6875 34.8125 36.53125 \r\nQ 39.546875 41.84375 41.421875 45.53125 \r\nQ 43.3125 49.21875 43.3125 52.78125 \r\nQ 43.3125 58.59375 39.234375 62.25 \r\nQ 35.15625 65.921875 28.609375 65.921875 \r\nQ 23.96875 65.921875 18.8125 64.3125 \r\nQ 13.671875 62.703125 7.8125 59.421875 \r\nL 7.8125 69.390625 \r\nQ 13.765625 71.78125 18.9375 73 \r\nQ 24.125 74.21875 28.421875 74.21875 \r\nQ 39.75 74.21875 46.484375 68.546875 \r\nQ 53.21875 62.890625 53.21875 53.421875 \r\nQ 53.21875 48.921875 51.53125 44.890625 \r\nQ 49.859375 40.875 45.40625 35.40625 \r\nQ 44.1875 33.984375 37.640625 27.21875 \r\nQ 31.109375 20.453125 19.1875 8.296875 \r\nz\r\n\" id=\"DejaVuSans-50\"/>\r\n       </defs>\r\n       <use xlink:href=\"#DejaVuSans-50\"/>\r\n       <use x=\"63.623047\" xlink:href=\"#DejaVuSans-48\"/>\r\n      </g>\r\n     </g>\r\n    </g>\r\n    <g id=\"xtick_3\">\r\n     <g id=\"line2d_3\">\r\n      <g>\r\n       <use style=\"stroke:#000000;stroke-width:0.8;\" x=\"178.796513\" xlink:href=\"#m66b0a1641c\" y=\"239.758125\"/>\r\n      </g>\r\n     </g>\r\n     <g id=\"text_3\">\r\n      <!-- 40 -->\r\n      <g transform=\"translate(172.434013 254.356562)scale(0.1 -0.1)\">\r\n       <defs>\r\n        <path d=\"M 37.796875 64.3125 \r\nL 12.890625 25.390625 \r\nL 37.796875 25.390625 \r\nz\r\nM 35.203125 72.90625 \r\nL 47.609375 72.90625 \r\nL 47.609375 25.390625 \r\nL 58.015625 25.390625 \r\nL 58.015625 17.1875 \r\nL 47.609375 17.1875 \r\nL 47.609375 0 \r\nL 37.796875 0 \r\nL 37.796875 17.1875 \r\nL 4.890625 17.1875 \r\nL 4.890625 26.703125 \r\nz\r\n\" id=\"DejaVuSans-52\"/>\r\n       </defs>\r\n       <use xlink:href=\"#DejaVuSans-52\"/>\r\n       <use x=\"63.623047\" xlink:href=\"#DejaVuSans-48\"/>\r\n      </g>\r\n     </g>\r\n    </g>\r\n    <g id=\"xtick_4\">\r\n     <g id=\"line2d_4\">\r\n      <g>\r\n       <use style=\"stroke:#000000;stroke-width:0.8;\" x=\"240.284117\" xlink:href=\"#m66b0a1641c\" y=\"239.758125\"/>\r\n      </g>\r\n     </g>\r\n     <g id=\"text_4\">\r\n      <!-- 60 -->\r\n      <g transform=\"translate(233.921617 254.356562)scale(0.1 -0.1)\">\r\n       <defs>\r\n        <path d=\"M 33.015625 40.375 \r\nQ 26.375 40.375 22.484375 35.828125 \r\nQ 18.609375 31.296875 18.609375 23.390625 \r\nQ 18.609375 15.53125 22.484375 10.953125 \r\nQ 26.375 6.390625 33.015625 6.390625 \r\nQ 39.65625 6.390625 43.53125 10.953125 \r\nQ 47.40625 15.53125 47.40625 23.390625 \r\nQ 47.40625 31.296875 43.53125 35.828125 \r\nQ 39.65625 40.375 33.015625 40.375 \r\nz\r\nM 52.59375 71.296875 \r\nL 52.59375 62.3125 \r\nQ 48.875 64.0625 45.09375 64.984375 \r\nQ 41.3125 65.921875 37.59375 65.921875 \r\nQ 27.828125 65.921875 22.671875 59.328125 \r\nQ 17.53125 52.734375 16.796875 39.40625 \r\nQ 19.671875 43.65625 24.015625 45.921875 \r\nQ 28.375 48.1875 33.59375 48.1875 \r\nQ 44.578125 48.1875 50.953125 41.515625 \r\nQ 57.328125 34.859375 57.328125 23.390625 \r\nQ 57.328125 12.15625 50.6875 5.359375 \r\nQ 44.046875 -1.421875 33.015625 -1.421875 \r\nQ 20.359375 -1.421875 13.671875 8.265625 \r\nQ 6.984375 17.96875 6.984375 36.375 \r\nQ 6.984375 53.65625 15.1875 63.9375 \r\nQ 23.390625 74.21875 37.203125 74.21875 \r\nQ 40.921875 74.21875 44.703125 73.484375 \r\nQ 48.484375 72.75 52.59375 71.296875 \r\nz\r\n\" id=\"DejaVuSans-54\"/>\r\n       </defs>\r\n       <use xlink:href=\"#DejaVuSans-54\"/>\r\n       <use x=\"63.623047\" xlink:href=\"#DejaVuSans-48\"/>\r\n      </g>\r\n     </g>\r\n    </g>\r\n    <g id=\"xtick_5\">\r\n     <g id=\"line2d_5\">\r\n      <g>\r\n       <use style=\"stroke:#000000;stroke-width:0.8;\" x=\"301.77172\" xlink:href=\"#m66b0a1641c\" y=\"239.758125\"/>\r\n      </g>\r\n     </g>\r\n     <g id=\"text_5\">\r\n      <!-- 80 -->\r\n      <g transform=\"translate(295.40922 254.356562)scale(0.1 -0.1)\">\r\n       <defs>\r\n        <path d=\"M 31.78125 34.625 \r\nQ 24.75 34.625 20.71875 30.859375 \r\nQ 16.703125 27.09375 16.703125 20.515625 \r\nQ 16.703125 13.921875 20.71875 10.15625 \r\nQ 24.75 6.390625 31.78125 6.390625 \r\nQ 38.8125 6.390625 42.859375 10.171875 \r\nQ 46.921875 13.96875 46.921875 20.515625 \r\nQ 46.921875 27.09375 42.890625 30.859375 \r\nQ 38.875 34.625 31.78125 34.625 \r\nz\r\nM 21.921875 38.8125 \r\nQ 15.578125 40.375 12.03125 44.71875 \r\nQ 8.5 49.078125 8.5 55.328125 \r\nQ 8.5 64.0625 14.71875 69.140625 \r\nQ 20.953125 74.21875 31.78125 74.21875 \r\nQ 42.671875 74.21875 48.875 69.140625 \r\nQ 55.078125 64.0625 55.078125 55.328125 \r\nQ 55.078125 49.078125 51.53125 44.71875 \r\nQ 48 40.375 41.703125 38.8125 \r\nQ 48.828125 37.15625 52.796875 32.3125 \r\nQ 56.78125 27.484375 56.78125 20.515625 \r\nQ 56.78125 9.90625 50.3125 4.234375 \r\nQ 43.84375 -1.421875 31.78125 -1.421875 \r\nQ 19.734375 -1.421875 13.25 4.234375 \r\nQ 6.78125 9.90625 6.78125 20.515625 \r\nQ 6.78125 27.484375 10.78125 32.3125 \r\nQ 14.796875 37.15625 21.921875 38.8125 \r\nz\r\nM 18.3125 54.390625 \r\nQ 18.3125 48.734375 21.84375 45.5625 \r\nQ 25.390625 42.390625 31.78125 42.390625 \r\nQ 38.140625 42.390625 41.71875 45.5625 \r\nQ 45.3125 48.734375 45.3125 54.390625 \r\nQ 45.3125 60.0625 41.71875 63.234375 \r\nQ 38.140625 66.40625 31.78125 66.40625 \r\nQ 25.390625 66.40625 21.84375 63.234375 \r\nQ 18.3125 60.0625 18.3125 54.390625 \r\nz\r\n\" id=\"DejaVuSans-56\"/>\r\n       </defs>\r\n       <use xlink:href=\"#DejaVuSans-56\"/>\r\n       <use x=\"63.623047\" xlink:href=\"#DejaVuSans-48\"/>\r\n      </g>\r\n     </g>\r\n    </g>\r\n    <g id=\"xtick_6\">\r\n     <g id=\"line2d_6\">\r\n      <g>\r\n       <use style=\"stroke:#000000;stroke-width:0.8;\" x=\"363.259323\" xlink:href=\"#m66b0a1641c\" y=\"239.758125\"/>\r\n      </g>\r\n     </g>\r\n     <g id=\"text_6\">\r\n      <!-- 100 -->\r\n      <g transform=\"translate(353.715573 254.356562)scale(0.1 -0.1)\">\r\n       <defs>\r\n        <path d=\"M 12.40625 8.296875 \r\nL 28.515625 8.296875 \r\nL 28.515625 63.921875 \r\nL 10.984375 60.40625 \r\nL 10.984375 69.390625 \r\nL 28.421875 72.90625 \r\nL 38.28125 72.90625 \r\nL 38.28125 8.296875 \r\nL 54.390625 8.296875 \r\nL 54.390625 0 \r\nL 12.40625 0 \r\nz\r\n\" id=\"DejaVuSans-49\"/>\r\n       </defs>\r\n       <use xlink:href=\"#DejaVuSans-49\"/>\r\n       <use x=\"63.623047\" xlink:href=\"#DejaVuSans-48\"/>\r\n       <use x=\"127.246094\" xlink:href=\"#DejaVuSans-48\"/>\r\n      </g>\r\n     </g>\r\n    </g>\r\n    <g id=\"text_7\">\r\n     <!-- Epoch -->\r\n     <g transform=\"translate(192.692187 268.034687)scale(0.1 -0.1)\">\r\n      <defs>\r\n       <path d=\"M 9.8125 72.90625 \r\nL 55.90625 72.90625 \r\nL 55.90625 64.59375 \r\nL 19.671875 64.59375 \r\nL 19.671875 43.015625 \r\nL 54.390625 43.015625 \r\nL 54.390625 34.71875 \r\nL 19.671875 34.71875 \r\nL 19.671875 8.296875 \r\nL 56.78125 8.296875 \r\nL 56.78125 0 \r\nL 9.8125 0 \r\nz\r\n\" id=\"DejaVuSans-69\"/>\r\n       <path d=\"M 18.109375 8.203125 \r\nL 18.109375 -20.796875 \r\nL 9.078125 -20.796875 \r\nL 9.078125 54.6875 \r\nL 18.109375 54.6875 \r\nL 18.109375 46.390625 \r\nQ 20.953125 51.265625 25.265625 53.625 \r\nQ 29.59375 56 35.59375 56 \r\nQ 45.5625 56 51.78125 48.09375 \r\nQ 58.015625 40.1875 58.015625 27.296875 \r\nQ 58.015625 14.40625 51.78125 6.484375 \r\nQ 45.5625 -1.421875 35.59375 -1.421875 \r\nQ 29.59375 -1.421875 25.265625 0.953125 \r\nQ 20.953125 3.328125 18.109375 8.203125 \r\nz\r\nM 48.6875 27.296875 \r\nQ 48.6875 37.203125 44.609375 42.84375 \r\nQ 40.53125 48.484375 33.40625 48.484375 \r\nQ 26.265625 48.484375 22.1875 42.84375 \r\nQ 18.109375 37.203125 18.109375 27.296875 \r\nQ 18.109375 17.390625 22.1875 11.75 \r\nQ 26.265625 6.109375 33.40625 6.109375 \r\nQ 40.53125 6.109375 44.609375 11.75 \r\nQ 48.6875 17.390625 48.6875 27.296875 \r\nz\r\n\" id=\"DejaVuSans-112\"/>\r\n       <path d=\"M 30.609375 48.390625 \r\nQ 23.390625 48.390625 19.1875 42.75 \r\nQ 14.984375 37.109375 14.984375 27.296875 \r\nQ 14.984375 17.484375 19.15625 11.84375 \r\nQ 23.34375 6.203125 30.609375 6.203125 \r\nQ 37.796875 6.203125 41.984375 11.859375 \r\nQ 46.1875 17.53125 46.1875 27.296875 \r\nQ 46.1875 37.015625 41.984375 42.703125 \r\nQ 37.796875 48.390625 30.609375 48.390625 \r\nz\r\nM 30.609375 56 \r\nQ 42.328125 56 49.015625 48.375 \r\nQ 55.71875 40.765625 55.71875 27.296875 \r\nQ 55.71875 13.875 49.015625 6.21875 \r\nQ 42.328125 -1.421875 30.609375 -1.421875 \r\nQ 18.84375 -1.421875 12.171875 6.21875 \r\nQ 5.515625 13.875 5.515625 27.296875 \r\nQ 5.515625 40.765625 12.171875 48.375 \r\nQ 18.84375 56 30.609375 56 \r\nz\r\n\" id=\"DejaVuSans-111\"/>\r\n       <path d=\"M 48.78125 52.59375 \r\nL 48.78125 44.1875 \r\nQ 44.96875 46.296875 41.140625 47.34375 \r\nQ 37.3125 48.390625 33.40625 48.390625 \r\nQ 24.65625 48.390625 19.8125 42.84375 \r\nQ 14.984375 37.3125 14.984375 27.296875 \r\nQ 14.984375 17.28125 19.8125 11.734375 \r\nQ 24.65625 6.203125 33.40625 6.203125 \r\nQ 37.3125 6.203125 41.140625 7.25 \r\nQ 44.96875 8.296875 48.78125 10.40625 \r\nL 48.78125 2.09375 \r\nQ 45.015625 0.34375 40.984375 -0.53125 \r\nQ 36.96875 -1.421875 32.421875 -1.421875 \r\nQ 20.0625 -1.421875 12.78125 6.34375 \r\nQ 5.515625 14.109375 5.515625 27.296875 \r\nQ 5.515625 40.671875 12.859375 48.328125 \r\nQ 20.21875 56 33.015625 56 \r\nQ 37.15625 56 41.109375 55.140625 \r\nQ 45.0625 54.296875 48.78125 52.59375 \r\nz\r\n\" id=\"DejaVuSans-99\"/>\r\n       <path d=\"M 54.890625 33.015625 \r\nL 54.890625 0 \r\nL 45.90625 0 \r\nL 45.90625 32.71875 \r\nQ 45.90625 40.484375 42.875 44.328125 \r\nQ 39.84375 48.1875 33.796875 48.1875 \r\nQ 26.515625 48.1875 22.3125 43.546875 \r\nQ 18.109375 38.921875 18.109375 30.90625 \r\nL 18.109375 0 \r\nL 9.078125 0 \r\nL 9.078125 75.984375 \r\nL 18.109375 75.984375 \r\nL 18.109375 46.1875 \r\nQ 21.34375 51.125 25.703125 53.5625 \r\nQ 30.078125 56 35.796875 56 \r\nQ 45.21875 56 50.046875 50.171875 \r\nQ 54.890625 44.34375 54.890625 33.015625 \r\nz\r\n\" id=\"DejaVuSans-104\"/>\r\n      </defs>\r\n      <use xlink:href=\"#DejaVuSans-69\"/>\r\n      <use x=\"63.183594\" xlink:href=\"#DejaVuSans-112\"/>\r\n      <use x=\"126.660156\" xlink:href=\"#DejaVuSans-111\"/>\r\n      <use x=\"187.841797\" xlink:href=\"#DejaVuSans-99\"/>\r\n      <use x=\"242.822266\" xlink:href=\"#DejaVuSans-104\"/>\r\n     </g>\r\n    </g>\r\n   </g>\r\n   <g id=\"matplotlib.axis_2\">\r\n    <g id=\"ytick_1\">\r\n     <g id=\"line2d_7\">\r\n      <defs>\r\n       <path d=\"M 0 0 \r\nL -3.5 0 \r\n\" id=\"md9e946a978\" style=\"stroke:#000000;stroke-width:0.8;\"/>\r\n      </defs>\r\n      <g>\r\n       <use style=\"stroke:#000000;stroke-width:0.8;\" x=\"40.603125\" xlink:href=\"#md9e946a978\" y=\"205.529964\"/>\r\n      </g>\r\n     </g>\r\n     <g id=\"text_8\">\r\n      <!-- 38 -->\r\n      <g transform=\"translate(20.878125 209.329183)scale(0.1 -0.1)\">\r\n       <defs>\r\n        <path d=\"M 40.578125 39.3125 \r\nQ 47.65625 37.796875 51.625 33 \r\nQ 55.609375 28.21875 55.609375 21.1875 \r\nQ 55.609375 10.40625 48.1875 4.484375 \r\nQ 40.765625 -1.421875 27.09375 -1.421875 \r\nQ 22.515625 -1.421875 17.65625 -0.515625 \r\nQ 12.796875 0.390625 7.625 2.203125 \r\nL 7.625 11.71875 \r\nQ 11.71875 9.328125 16.59375 8.109375 \r\nQ 21.484375 6.890625 26.8125 6.890625 \r\nQ 36.078125 6.890625 40.9375 10.546875 \r\nQ 45.796875 14.203125 45.796875 21.1875 \r\nQ 45.796875 27.640625 41.28125 31.265625 \r\nQ 36.765625 34.90625 28.71875 34.90625 \r\nL 20.21875 34.90625 \r\nL 20.21875 43.015625 \r\nL 29.109375 43.015625 \r\nQ 36.375 43.015625 40.234375 45.921875 \r\nQ 44.09375 48.828125 44.09375 54.296875 \r\nQ 44.09375 59.90625 40.109375 62.90625 \r\nQ 36.140625 65.921875 28.71875 65.921875 \r\nQ 24.65625 65.921875 20.015625 65.03125 \r\nQ 15.375 64.15625 9.8125 62.3125 \r\nL 9.8125 71.09375 \r\nQ 15.4375 72.65625 20.34375 73.4375 \r\nQ 25.25 74.21875 29.59375 74.21875 \r\nQ 40.828125 74.21875 47.359375 69.109375 \r\nQ 53.90625 64.015625 53.90625 55.328125 \r\nQ 53.90625 49.265625 50.4375 45.09375 \r\nQ 46.96875 40.921875 40.578125 39.3125 \r\nz\r\n\" id=\"DejaVuSans-51\"/>\r\n       </defs>\r\n       <use xlink:href=\"#DejaVuSans-51\"/>\r\n       <use x=\"63.623047\" xlink:href=\"#DejaVuSans-56\"/>\r\n      </g>\r\n     </g>\r\n    </g>\r\n    <g id=\"ytick_2\">\r\n     <g id=\"line2d_8\">\r\n      <g>\r\n       <use style=\"stroke:#000000;stroke-width:0.8;\" x=\"40.603125\" xlink:href=\"#md9e946a978\" y=\"170.289863\"/>\r\n      </g>\r\n     </g>\r\n     <g id=\"text_9\">\r\n      <!-- 40 -->\r\n      <g transform=\"translate(20.878125 174.089081)scale(0.1 -0.1)\">\r\n       <use xlink:href=\"#DejaVuSans-52\"/>\r\n       <use x=\"63.623047\" xlink:href=\"#DejaVuSans-48\"/>\r\n      </g>\r\n     </g>\r\n    </g>\r\n    <g id=\"ytick_3\">\r\n     <g id=\"line2d_9\">\r\n      <g>\r\n       <use style=\"stroke:#000000;stroke-width:0.8;\" x=\"40.603125\" xlink:href=\"#md9e946a978\" y=\"135.049761\"/>\r\n      </g>\r\n     </g>\r\n     <g id=\"text_10\">\r\n      <!-- 42 -->\r\n      <g transform=\"translate(20.878125 138.84898)scale(0.1 -0.1)\">\r\n       <use xlink:href=\"#DejaVuSans-52\"/>\r\n       <use x=\"63.623047\" xlink:href=\"#DejaVuSans-50\"/>\r\n      </g>\r\n     </g>\r\n    </g>\r\n    <g id=\"ytick_4\">\r\n     <g id=\"line2d_10\">\r\n      <g>\r\n       <use style=\"stroke:#000000;stroke-width:0.8;\" x=\"40.603125\" xlink:href=\"#md9e946a978\" y=\"99.809659\"/>\r\n      </g>\r\n     </g>\r\n     <g id=\"text_11\">\r\n      <!-- 44 -->\r\n      <g transform=\"translate(20.878125 103.608878)scale(0.1 -0.1)\">\r\n       <use xlink:href=\"#DejaVuSans-52\"/>\r\n       <use x=\"63.623047\" xlink:href=\"#DejaVuSans-52\"/>\r\n      </g>\r\n     </g>\r\n    </g>\r\n    <g id=\"ytick_5\">\r\n     <g id=\"line2d_11\">\r\n      <g>\r\n       <use style=\"stroke:#000000;stroke-width:0.8;\" x=\"40.603125\" xlink:href=\"#md9e946a978\" y=\"64.569558\"/>\r\n      </g>\r\n     </g>\r\n     <g id=\"text_12\">\r\n      <!-- 46 -->\r\n      <g transform=\"translate(20.878125 68.368776)scale(0.1 -0.1)\">\r\n       <use xlink:href=\"#DejaVuSans-52\"/>\r\n       <use x=\"63.623047\" xlink:href=\"#DejaVuSans-54\"/>\r\n      </g>\r\n     </g>\r\n    </g>\r\n    <g id=\"ytick_6\">\r\n     <g id=\"line2d_12\">\r\n      <g>\r\n       <use style=\"stroke:#000000;stroke-width:0.8;\" x=\"40.603125\" xlink:href=\"#md9e946a978\" y=\"29.329456\"/>\r\n      </g>\r\n     </g>\r\n     <g id=\"text_13\">\r\n      <!-- 48 -->\r\n      <g transform=\"translate(20.878125 33.128675)scale(0.1 -0.1)\">\r\n       <use xlink:href=\"#DejaVuSans-52\"/>\r\n       <use x=\"63.623047\" xlink:href=\"#DejaVuSans-56\"/>\r\n      </g>\r\n     </g>\r\n    </g>\r\n    <g id=\"text_14\">\r\n     <!-- Loss -->\r\n     <g transform=\"translate(14.798438 142.005312)rotate(-90)scale(0.1 -0.1)\">\r\n      <defs>\r\n       <path d=\"M 9.8125 72.90625 \r\nL 19.671875 72.90625 \r\nL 19.671875 8.296875 \r\nL 55.171875 8.296875 \r\nL 55.171875 0 \r\nL 9.8125 0 \r\nz\r\n\" id=\"DejaVuSans-76\"/>\r\n       <path d=\"M 44.28125 53.078125 \r\nL 44.28125 44.578125 \r\nQ 40.484375 46.53125 36.375 47.5 \r\nQ 32.28125 48.484375 27.875 48.484375 \r\nQ 21.1875 48.484375 17.84375 46.4375 \r\nQ 14.5 44.390625 14.5 40.28125 \r\nQ 14.5 37.15625 16.890625 35.375 \r\nQ 19.28125 33.59375 26.515625 31.984375 \r\nL 29.59375 31.296875 \r\nQ 39.15625 29.25 43.1875 25.515625 \r\nQ 47.21875 21.78125 47.21875 15.09375 \r\nQ 47.21875 7.46875 41.1875 3.015625 \r\nQ 35.15625 -1.421875 24.609375 -1.421875 \r\nQ 20.21875 -1.421875 15.453125 -0.5625 \r\nQ 10.6875 0.296875 5.421875 2 \r\nL 5.421875 11.28125 \r\nQ 10.40625 8.6875 15.234375 7.390625 \r\nQ 20.0625 6.109375 24.8125 6.109375 \r\nQ 31.15625 6.109375 34.5625 8.28125 \r\nQ 37.984375 10.453125 37.984375 14.40625 \r\nQ 37.984375 18.0625 35.515625 20.015625 \r\nQ 33.0625 21.96875 24.703125 23.78125 \r\nL 21.578125 24.515625 \r\nQ 13.234375 26.265625 9.515625 29.90625 \r\nQ 5.8125 33.546875 5.8125 39.890625 \r\nQ 5.8125 47.609375 11.28125 51.796875 \r\nQ 16.75 56 26.8125 56 \r\nQ 31.78125 56 36.171875 55.265625 \r\nQ 40.578125 54.546875 44.28125 53.078125 \r\nz\r\n\" id=\"DejaVuSans-115\"/>\r\n      </defs>\r\n      <use xlink:href=\"#DejaVuSans-76\"/>\r\n      <use x=\"53.962891\" xlink:href=\"#DejaVuSans-111\"/>\r\n      <use x=\"115.144531\" xlink:href=\"#DejaVuSans-115\"/>\r\n      <use x=\"167.244141\" xlink:href=\"#DejaVuSans-115\"/>\r\n     </g>\r\n    </g>\r\n   </g>\r\n   <g id=\"line2d_13\">\r\n    <path clip-path=\"url(#p8dc08d807a)\" d=\"M 55.821307 32.201761 \r\nL 58.895687 34.295782 \r\nL 61.970067 36.460312 \r\nL 65.044447 38.79987 \r\nL 68.118827 41.414943 \r\nL 71.193208 44.401313 \r\nL 74.267588 47.848308 \r\nL 77.341968 51.841628 \r\nL 80.416348 56.462401 \r\nL 83.490728 61.778583 \r\nL 86.565108 67.829426 \r\nL 89.639489 74.609755 \r\nL 92.713869 82.053565 \r\nL 95.788249 90.027434 \r\nL 98.862629 98.365743 \r\nL 101.937009 106.910874 \r\nL 105.011389 115.449417 \r\nL 108.08577 123.668621 \r\nL 111.16015 131.181932 \r\nL 114.23453 137.57127 \r\nL 117.30891 142.43953 \r\nL 120.38329 145.486124 \r\nL 123.45767 146.612516 \r\nL 126.532051 146.035877 \r\nL 129.606431 144.327738 \r\nL 132.680811 142.269946 \r\nL 135.755191 140.570478 \r\nL 138.829571 139.668652 \r\nL 141.903951 139.72229 \r\nL 144.978332 140.655841 \r\nL 148.052712 142.212813 \r\nL 151.127092 144.045367 \r\nL 154.201472 145.821864 \r\nL 157.275852 147.30006 \r\nL 160.350232 148.355808 \r\nL 163.424613 148.975465 \r\nL 166.498993 149.225573 \r\nL 169.573373 149.215894 \r\nL 172.647753 149.066676 \r\nL 175.722133 148.885464 \r\nL 178.796513 148.754596 \r\nL 181.870894 148.727441 \r\nL 184.945274 148.830079 \r\nL 188.019654 149.065802 \r\nL 191.094034 149.420429 \r\nL 194.168414 149.867209 \r\nL 197.242794 150.372801 \r\nL 200.317175 150.90165 \r\nL 203.391555 151.420349 \r\nL 206.465935 151.901879 \r\nL 209.540315 152.328359 \r\nL 212.614695 152.692867 \r\nL 215.689075 152.999973 \r\nL 218.763456 153.263254 \r\nL 221.837836 153.503213 \r\nL 224.912216 153.742095 \r\nL 227.986596 153.999529 \r\nL 231.060976 154.288756 \r\nL 234.135356 154.61475 \r\nL 237.209737 154.972805 \r\nL 240.284117 155.352167 \r\nL 243.358497 155.738587 \r\nL 246.432877 156.118554 \r\nL 249.507257 156.482659 \r\nL 252.581637 156.827137 \r\nL 255.656018 157.154004 \r\nL 258.730398 157.469512 \r\nL 261.804778 157.782331 \r\nL 264.879158 158.09999 \r\nL 267.953538 158.428672 \r\nL 271.027918 158.770461 \r\nL 274.102299 159.12529 \r\nL 277.176679 159.490403 \r\nL 280.251059 159.862506 \r\nL 283.325439 160.238709 \r\nL 286.399819 160.617803 \r\nL 289.474199 161.000526 \r\nL 292.54858 161.388962 \r\nL 295.62296 161.786137 \r\nL 298.69734 162.19467 \r\nL 301.77172 162.61658 \r\nL 304.8461 163.05247 \r\nL 307.92048 163.502274 \r\nL 310.994861 163.965924 \r\nL 314.069241 164.444026 \r\nL 317.143621 164.937654 \r\nL 320.218001 165.449229 \r\nL 323.292381 165.981976 \r\nL 326.366761 166.538585 \r\nL 329.441142 167.120735 \r\nL 332.515522 167.728965 \r\nL 335.589902 168.362535 \r\nL 338.664282 169.019631 \r\nL 341.738662 169.698773 \r\nL 344.813042 170.398953 \r\nL 347.887423 171.120306 \r\nL 350.961803 171.863235 \r\nL 354.036183 172.627808 \r\nL 357.110563 173.412948 \r\nL 360.184943 174.215833 \r\n\" style=\"fill:none;stroke:#1f77b4;stroke-linecap:square;stroke-width:1.5;\"/>\r\n   </g>\r\n   <g id=\"line2d_14\">\r\n    <path clip-path=\"url(#p8dc08d807a)\" d=\"M 55.821307 115.793828 \r\nL 58.895687 117.79368 \r\nL 61.970067 119.952833 \r\nL 65.044447 122.363168 \r\nL 68.118827 125.111798 \r\nL 71.193208 128.279178 \r\nL 74.267588 131.941127 \r\nL 77.341968 136.167482 \r\nL 80.416348 141.013762 \r\nL 83.490728 146.506518 \r\nL 86.565108 152.626929 \r\nL 89.639489 159.295613 \r\nL 92.713869 166.366514 \r\nL 95.788249 173.662114 \r\nL 98.862629 181.015923 \r\nL 101.937009 188.21171 \r\nL 105.011389 194.940149 \r\nL 108.08577 200.826785 \r\nL 111.16015 205.475117 \r\nL 114.23453 208.523257 \r\nL 117.30891 209.723249 \r\nL 120.38329 209.052106 \r\nL 123.45767 206.82762 \r\nL 126.532051 203.73337 \r\nL 129.606431 200.643019 \r\nL 132.680811 198.306082 \r\nL 135.755191 197.148839 \r\nL 138.829571 197.281589 \r\nL 141.903951 198.565466 \r\nL 144.978332 200.677164 \r\nL 148.052712 203.205126 \r\nL 151.127092 205.757757 \r\nL 154.201472 208.039442 \r\nL 157.275852 209.879928 \r\nL 160.350232 211.227659 \r\nL 163.424613 212.120612 \r\nL 166.498993 212.64926 \r\nL 169.573373 212.923161 \r\nL 172.647753 213.04556 \r\nL 175.722133 213.099736 \r\nL 178.796513 213.144165 \r\nL 181.870894 213.212657 \r\nL 184.945274 213.317782 \r\nL 188.019654 213.456312 \r\nL 191.094034 213.613864 \r\nL 194.168414 213.770341 \r\nL 197.242794 213.904436 \r\nL 200.317175 213.998335 \r\nL 203.391555 214.040681 \r\nL 206.465935 214.029859 \r\nL 209.540315 213.97481 \r\nL 212.614695 213.894488 \r\nL 215.689075 213.81551 \r\nL 218.763456 213.768056 \r\nL 221.837836 213.781297 \r\nL 224.912216 213.877953 \r\nL 227.986596 214.070323 \r\nL 231.060976 214.358272 \r\nL 234.135356 214.729233 \r\nL 237.209737 215.161225 \r\nL 240.284117 215.627295 \r\nL 243.358497 216.099615 \r\nL 246.432877 216.554662 \r\nL 249.507257 216.975362 \r\nL 252.581637 217.351699 \r\nL 255.656018 217.680247 \r\nL 258.730398 217.962618 \r\nL 261.804778 218.202845 \r\nL 264.879158 218.405969 \r\nL 267.953538 218.577032 \r\nL 271.027918 218.721007 \r\nL 274.102299 218.843405 \r\nL 277.176679 218.950479 \r\nL 280.251059 219.05063 \r\nL 283.325439 219.153872 \r\nL 286.399819 219.271768 \r\nL 289.474199 219.415541 \r\nL 292.54858 219.595207 \r\nL 295.62296 219.817689 \r\nL 298.69734 220.085878 \r\nL 301.77172 220.398697 \r\nL 304.8461 220.751241 \r\nL 307.92048 221.136518 \r\nL 310.994861 221.54653 \r\nL 314.069241 221.97375 \r\nL 317.143621 222.411791 \r\nL 320.218001 222.856688 \r\nL 323.292381 223.305954 \r\nL 326.366761 223.758716 \r\nL 329.441142 224.215712 \r\nL 332.515522 224.679093 \r\nL 335.589902 225.152288 \r\nL 338.664282 225.64027 \r\nL 341.738662 226.149357 \r\nL 344.813042 226.686474 \r\nL 347.887423 227.256996 \r\nL 350.961803 227.863949 \r\nL 354.036183 228.50666 \r\nL 357.110563 229.179753 \r\nL 360.184943 229.874489 \r\n\" style=\"fill:none;stroke:#ff7f0e;stroke-linecap:square;stroke-width:1.5;\"/>\r\n   </g>\r\n   <g id=\"patch_3\">\r\n    <path d=\"M 40.603125 239.758125 \r\nL 40.603125 22.318125 \r\n\" style=\"fill:none;stroke:#000000;stroke-linecap:square;stroke-linejoin:miter;stroke-width:0.8;\"/>\r\n   </g>\r\n   <g id=\"patch_4\">\r\n    <path d=\"M 375.403125 239.758125 \r\nL 375.403125 22.318125 \r\n\" style=\"fill:none;stroke:#000000;stroke-linecap:square;stroke-linejoin:miter;stroke-width:0.8;\"/>\r\n   </g>\r\n   <g id=\"patch_5\">\r\n    <path d=\"M 40.603125 239.758125 \r\nL 375.403125 239.758125 \r\n\" style=\"fill:none;stroke:#000000;stroke-linecap:square;stroke-linejoin:miter;stroke-width:0.8;\"/>\r\n   </g>\r\n   <g id=\"patch_6\">\r\n    <path d=\"M 40.603125 22.318125 \r\nL 375.403125 22.318125 \r\n\" style=\"fill:none;stroke:#000000;stroke-linecap:square;stroke-linejoin:miter;stroke-width:0.8;\"/>\r\n   </g>\r\n   <g id=\"text_15\">\r\n    <!-- Training and Validation Loss -->\r\n    <g transform=\"translate(124.53375 16.318125)scale(0.12 -0.12)\">\r\n     <defs>\r\n      <path d=\"M -0.296875 72.90625 \r\nL 61.375 72.90625 \r\nL 61.375 64.59375 \r\nL 35.5 64.59375 \r\nL 35.5 0 \r\nL 25.59375 0 \r\nL 25.59375 64.59375 \r\nL -0.296875 64.59375 \r\nz\r\n\" id=\"DejaVuSans-84\"/>\r\n      <path d=\"M 41.109375 46.296875 \r\nQ 39.59375 47.171875 37.8125 47.578125 \r\nQ 36.03125 48 33.890625 48 \r\nQ 26.265625 48 22.1875 43.046875 \r\nQ 18.109375 38.09375 18.109375 28.8125 \r\nL 18.109375 0 \r\nL 9.078125 0 \r\nL 9.078125 54.6875 \r\nL 18.109375 54.6875 \r\nL 18.109375 46.1875 \r\nQ 20.953125 51.171875 25.484375 53.578125 \r\nQ 30.03125 56 36.53125 56 \r\nQ 37.453125 56 38.578125 55.875 \r\nQ 39.703125 55.765625 41.0625 55.515625 \r\nz\r\n\" id=\"DejaVuSans-114\"/>\r\n      <path d=\"M 34.28125 27.484375 \r\nQ 23.390625 27.484375 19.1875 25 \r\nQ 14.984375 22.515625 14.984375 16.5 \r\nQ 14.984375 11.71875 18.140625 8.90625 \r\nQ 21.296875 6.109375 26.703125 6.109375 \r\nQ 34.1875 6.109375 38.703125 11.40625 \r\nQ 43.21875 16.703125 43.21875 25.484375 \r\nL 43.21875 27.484375 \r\nz\r\nM 52.203125 31.203125 \r\nL 52.203125 0 \r\nL 43.21875 0 \r\nL 43.21875 8.296875 \r\nQ 40.140625 3.328125 35.546875 0.953125 \r\nQ 30.953125 -1.421875 24.3125 -1.421875 \r\nQ 15.921875 -1.421875 10.953125 3.296875 \r\nQ 6 8.015625 6 15.921875 \r\nQ 6 25.140625 12.171875 29.828125 \r\nQ 18.359375 34.515625 30.609375 34.515625 \r\nL 43.21875 34.515625 \r\nL 43.21875 35.40625 \r\nQ 43.21875 41.609375 39.140625 45 \r\nQ 35.0625 48.390625 27.6875 48.390625 \r\nQ 23 48.390625 18.546875 47.265625 \r\nQ 14.109375 46.140625 10.015625 43.890625 \r\nL 10.015625 52.203125 \r\nQ 14.9375 54.109375 19.578125 55.046875 \r\nQ 24.21875 56 28.609375 56 \r\nQ 40.484375 56 46.34375 49.84375 \r\nQ 52.203125 43.703125 52.203125 31.203125 \r\nz\r\n\" id=\"DejaVuSans-97\"/>\r\n      <path d=\"M 9.421875 54.6875 \r\nL 18.40625 54.6875 \r\nL 18.40625 0 \r\nL 9.421875 0 \r\nz\r\nM 9.421875 75.984375 \r\nL 18.40625 75.984375 \r\nL 18.40625 64.59375 \r\nL 9.421875 64.59375 \r\nz\r\n\" id=\"DejaVuSans-105\"/>\r\n      <path d=\"M 54.890625 33.015625 \r\nL 54.890625 0 \r\nL 45.90625 0 \r\nL 45.90625 32.71875 \r\nQ 45.90625 40.484375 42.875 44.328125 \r\nQ 39.84375 48.1875 33.796875 48.1875 \r\nQ 26.515625 48.1875 22.3125 43.546875 \r\nQ 18.109375 38.921875 18.109375 30.90625 \r\nL 18.109375 0 \r\nL 9.078125 0 \r\nL 9.078125 54.6875 \r\nL 18.109375 54.6875 \r\nL 18.109375 46.1875 \r\nQ 21.34375 51.125 25.703125 53.5625 \r\nQ 30.078125 56 35.796875 56 \r\nQ 45.21875 56 50.046875 50.171875 \r\nQ 54.890625 44.34375 54.890625 33.015625 \r\nz\r\n\" id=\"DejaVuSans-110\"/>\r\n      <path d=\"M 45.40625 27.984375 \r\nQ 45.40625 37.75 41.375 43.109375 \r\nQ 37.359375 48.484375 30.078125 48.484375 \r\nQ 22.859375 48.484375 18.828125 43.109375 \r\nQ 14.796875 37.75 14.796875 27.984375 \r\nQ 14.796875 18.265625 18.828125 12.890625 \r\nQ 22.859375 7.515625 30.078125 7.515625 \r\nQ 37.359375 7.515625 41.375 12.890625 \r\nQ 45.40625 18.265625 45.40625 27.984375 \r\nz\r\nM 54.390625 6.78125 \r\nQ 54.390625 -7.171875 48.1875 -13.984375 \r\nQ 42 -20.796875 29.203125 -20.796875 \r\nQ 24.46875 -20.796875 20.265625 -20.09375 \r\nQ 16.0625 -19.390625 12.109375 -17.921875 \r\nL 12.109375 -9.1875 \r\nQ 16.0625 -11.328125 19.921875 -12.34375 \r\nQ 23.78125 -13.375 27.78125 -13.375 \r\nQ 36.625 -13.375 41.015625 -8.765625 \r\nQ 45.40625 -4.15625 45.40625 5.171875 \r\nL 45.40625 9.625 \r\nQ 42.625 4.78125 38.28125 2.390625 \r\nQ 33.9375 0 27.875 0 \r\nQ 17.828125 0 11.671875 7.65625 \r\nQ 5.515625 15.328125 5.515625 27.984375 \r\nQ 5.515625 40.671875 11.671875 48.328125 \r\nQ 17.828125 56 27.875 56 \r\nQ 33.9375 56 38.28125 53.609375 \r\nQ 42.625 51.21875 45.40625 46.390625 \r\nL 45.40625 54.6875 \r\nL 54.390625 54.6875 \r\nz\r\n\" id=\"DejaVuSans-103\"/>\r\n      <path id=\"DejaVuSans-32\"/>\r\n      <path d=\"M 45.40625 46.390625 \r\nL 45.40625 75.984375 \r\nL 54.390625 75.984375 \r\nL 54.390625 0 \r\nL 45.40625 0 \r\nL 45.40625 8.203125 \r\nQ 42.578125 3.328125 38.25 0.953125 \r\nQ 33.9375 -1.421875 27.875 -1.421875 \r\nQ 17.96875 -1.421875 11.734375 6.484375 \r\nQ 5.515625 14.40625 5.515625 27.296875 \r\nQ 5.515625 40.1875 11.734375 48.09375 \r\nQ 17.96875 56 27.875 56 \r\nQ 33.9375 56 38.25 53.625 \r\nQ 42.578125 51.265625 45.40625 46.390625 \r\nz\r\nM 14.796875 27.296875 \r\nQ 14.796875 17.390625 18.875 11.75 \r\nQ 22.953125 6.109375 30.078125 6.109375 \r\nQ 37.203125 6.109375 41.296875 11.75 \r\nQ 45.40625 17.390625 45.40625 27.296875 \r\nQ 45.40625 37.203125 41.296875 42.84375 \r\nQ 37.203125 48.484375 30.078125 48.484375 \r\nQ 22.953125 48.484375 18.875 42.84375 \r\nQ 14.796875 37.203125 14.796875 27.296875 \r\nz\r\n\" id=\"DejaVuSans-100\"/>\r\n      <path d=\"M 28.609375 0 \r\nL 0.78125 72.90625 \r\nL 11.078125 72.90625 \r\nL 34.1875 11.53125 \r\nL 57.328125 72.90625 \r\nL 67.578125 72.90625 \r\nL 39.796875 0 \r\nz\r\n\" id=\"DejaVuSans-86\"/>\r\n      <path d=\"M 9.421875 75.984375 \r\nL 18.40625 75.984375 \r\nL 18.40625 0 \r\nL 9.421875 0 \r\nz\r\n\" id=\"DejaVuSans-108\"/>\r\n      <path d=\"M 18.3125 70.21875 \r\nL 18.3125 54.6875 \r\nL 36.8125 54.6875 \r\nL 36.8125 47.703125 \r\nL 18.3125 47.703125 \r\nL 18.3125 18.015625 \r\nQ 18.3125 11.328125 20.140625 9.421875 \r\nQ 21.96875 7.515625 27.59375 7.515625 \r\nL 36.8125 7.515625 \r\nL 36.8125 0 \r\nL 27.59375 0 \r\nQ 17.1875 0 13.234375 3.875 \r\nQ 9.28125 7.765625 9.28125 18.015625 \r\nL 9.28125 47.703125 \r\nL 2.6875 47.703125 \r\nL 2.6875 54.6875 \r\nL 9.28125 54.6875 \r\nL 9.28125 70.21875 \r\nz\r\n\" id=\"DejaVuSans-116\"/>\r\n     </defs>\r\n     <use xlink:href=\"#DejaVuSans-84\"/>\r\n     <use x=\"46.333984\" xlink:href=\"#DejaVuSans-114\"/>\r\n     <use x=\"87.447266\" xlink:href=\"#DejaVuSans-97\"/>\r\n     <use x=\"148.726562\" xlink:href=\"#DejaVuSans-105\"/>\r\n     <use x=\"176.509766\" xlink:href=\"#DejaVuSans-110\"/>\r\n     <use x=\"239.888672\" xlink:href=\"#DejaVuSans-105\"/>\r\n     <use x=\"267.671875\" xlink:href=\"#DejaVuSans-110\"/>\r\n     <use x=\"331.050781\" xlink:href=\"#DejaVuSans-103\"/>\r\n     <use x=\"394.527344\" xlink:href=\"#DejaVuSans-32\"/>\r\n     <use x=\"426.314453\" xlink:href=\"#DejaVuSans-97\"/>\r\n     <use x=\"487.59375\" xlink:href=\"#DejaVuSans-110\"/>\r\n     <use x=\"550.972656\" xlink:href=\"#DejaVuSans-100\"/>\r\n     <use x=\"614.449219\" xlink:href=\"#DejaVuSans-32\"/>\r\n     <use x=\"646.236328\" xlink:href=\"#DejaVuSans-86\"/>\r\n     <use x=\"706.894531\" xlink:href=\"#DejaVuSans-97\"/>\r\n     <use x=\"768.173828\" xlink:href=\"#DejaVuSans-108\"/>\r\n     <use x=\"795.957031\" xlink:href=\"#DejaVuSans-105\"/>\r\n     <use x=\"823.740234\" xlink:href=\"#DejaVuSans-100\"/>\r\n     <use x=\"887.216797\" xlink:href=\"#DejaVuSans-97\"/>\r\n     <use x=\"948.496094\" xlink:href=\"#DejaVuSans-116\"/>\r\n     <use x=\"987.705078\" xlink:href=\"#DejaVuSans-105\"/>\r\n     <use x=\"1015.488281\" xlink:href=\"#DejaVuSans-111\"/>\r\n     <use x=\"1076.669922\" xlink:href=\"#DejaVuSans-110\"/>\r\n     <use x=\"1140.048828\" xlink:href=\"#DejaVuSans-32\"/>\r\n     <use x=\"1171.835938\" xlink:href=\"#DejaVuSans-76\"/>\r\n     <use x=\"1225.798828\" xlink:href=\"#DejaVuSans-111\"/>\r\n     <use x=\"1286.980469\" xlink:href=\"#DejaVuSans-115\"/>\r\n     <use x=\"1339.080078\" xlink:href=\"#DejaVuSans-115\"/>\r\n    </g>\r\n   </g>\r\n   <g id=\"legend_1\">\r\n    <g id=\"patch_7\">\r\n     <path d=\"M 287.303125 59.674375 \r\nL 368.403125 59.674375 \r\nQ 370.403125 59.674375 370.403125 57.674375 \r\nL 370.403125 29.318125 \r\nQ 370.403125 27.318125 368.403125 27.318125 \r\nL 287.303125 27.318125 \r\nQ 285.303125 27.318125 285.303125 29.318125 \r\nL 285.303125 57.674375 \r\nQ 285.303125 59.674375 287.303125 59.674375 \r\nz\r\n\" style=\"fill:#ffffff;opacity:0.8;stroke:#cccccc;stroke-linejoin:miter;\"/>\r\n    </g>\r\n    <g id=\"line2d_15\">\r\n     <path d=\"M 289.303125 35.416562 \r\nL 309.303125 35.416562 \r\n\" style=\"fill:none;stroke:#1f77b4;stroke-linecap:square;stroke-width:1.5;\"/>\r\n    </g>\r\n    <g id=\"line2d_16\"/>\r\n    <g id=\"text_16\">\r\n     <!-- Train Loss -->\r\n     <g transform=\"translate(317.303125 38.916562)scale(0.1 -0.1)\">\r\n      <use xlink:href=\"#DejaVuSans-84\"/>\r\n      <use x=\"46.333984\" xlink:href=\"#DejaVuSans-114\"/>\r\n      <use x=\"87.447266\" xlink:href=\"#DejaVuSans-97\"/>\r\n      <use x=\"148.726562\" xlink:href=\"#DejaVuSans-105\"/>\r\n      <use x=\"176.509766\" xlink:href=\"#DejaVuSans-110\"/>\r\n      <use x=\"239.888672\" xlink:href=\"#DejaVuSans-32\"/>\r\n      <use x=\"271.675781\" xlink:href=\"#DejaVuSans-76\"/>\r\n      <use x=\"325.638672\" xlink:href=\"#DejaVuSans-111\"/>\r\n      <use x=\"386.820312\" xlink:href=\"#DejaVuSans-115\"/>\r\n      <use x=\"438.919922\" xlink:href=\"#DejaVuSans-115\"/>\r\n     </g>\r\n    </g>\r\n    <g id=\"line2d_17\">\r\n     <path d=\"M 289.303125 50.094687 \r\nL 309.303125 50.094687 \r\n\" style=\"fill:none;stroke:#ff7f0e;stroke-linecap:square;stroke-width:1.5;\"/>\r\n    </g>\r\n    <g id=\"line2d_18\"/>\r\n    <g id=\"text_17\">\r\n     <!-- Val Loss -->\r\n     <g transform=\"translate(317.303125 53.594687)scale(0.1 -0.1)\">\r\n      <use xlink:href=\"#DejaVuSans-86\"/>\r\n      <use x=\"60.658203\" xlink:href=\"#DejaVuSans-97\"/>\r\n      <use x=\"121.9375\" xlink:href=\"#DejaVuSans-108\"/>\r\n      <use x=\"149.720703\" xlink:href=\"#DejaVuSans-32\"/>\r\n      <use x=\"181.507812\" xlink:href=\"#DejaVuSans-76\"/>\r\n      <use x=\"235.470703\" xlink:href=\"#DejaVuSans-111\"/>\r\n      <use x=\"296.652344\" xlink:href=\"#DejaVuSans-115\"/>\r\n      <use x=\"348.751953\" xlink:href=\"#DejaVuSans-115\"/>\r\n     </g>\r\n    </g>\r\n   </g>\r\n  </g>\r\n </g>\r\n <defs>\r\n  <clipPath id=\"p8dc08d807a\">\r\n   <rect height=\"217.44\" width=\"334.8\" x=\"40.603125\" y=\"22.318125\"/>\r\n  </clipPath>\r\n </defs>\r\n</svg>\r\n",
      "image/png": "[encoded data removed]"
     },
     "metadata": {
      "needs_background": "light"
     }
    }
   ],
   "source": [
    "# Plot training and validation loss\n",
    "plt.plot(train_losses, label='Train Loss')\n",
    "plt.plot(val_losses, label='Val Loss')\n",
    "plt.xlabel('Epoch')\n",
    "plt.ylabel('Loss')\n",
    "plt.title('Training and Validation Loss')\n",
    "plt.legend()\n",
    "plt.show()"
   ]
  },
  {
   "cell_type": "code",
   "execution_count": 21,
   "metadata": {},
   "outputs": [],
   "source": [
    "# Save ground truth and predictions to an Excel file\n",
    "with torch.no_grad():\n",
    "    predictions = model(X_val.unsqueeze(1)).numpy()\n",
    "    df = pd.DataFrame({'Permeance GroundTruth': y_val[:, 0].numpy(),\n",
    "                       'Permeance Prediction': predictions[:, 0],\n",
    "                       'Rejection GroundTruth': y_val[:, 1].numpy(),\n",
    "                       'Rejection Prediction': predictions[:, 1]})\n",
    "    df.to_excel('predictions_two_outputs.xlsx', index=False)"
   ]
  },
  {
   "cell_type": "code",
   "execution_count": null,
   "metadata": {},
   "outputs": [],
   "source": []
  }
 ],
 "metadata": {
  "kernelspec": {
   "name": "python3",
   "display_name": "Python 3.8.8 64-bit (virtualenv)"
  },
  "language_info": {
   "codemirror_mode": {
    "name": "ipython",
    "version": 3
   },
   "file_extension": ".py",
   "mimetype": "text/x-python",
   "name": "python",
   "nbconvert_exporter": "python",
   "pygments_lexer": "ipython3",
   "version": "3.8.8"
  },
  "toc": {
   "base_numbering": 1,
   "nav_menu": {},
   "number_sections": true,
   "sideBar": true,
   "skip_h1_title": false,
   "title_cell": "Table of Contents",
   "title_sidebar": "Contents",
   "toc_cell": false,
   "toc_position": {
    "height": "calc(100% - 180px)",
    "left": "10px",
    "top": "150px",
    "width": "253px"
   },
   "toc_section_display": true,
   "toc_window_display": true
  },
  "interpreter": {
   "hash": "2db524e06e9f5f4ffedc911c917cb75e12dbc923643829bf417064a77eb14d37"
  }
 },
 "nbformat": 4,
 "nbformat_minor": 2
}